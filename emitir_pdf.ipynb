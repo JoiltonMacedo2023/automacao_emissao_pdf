{
 "cells": [
  {
   "cell_type": "code",
   "execution_count": 10,
   "metadata": {},
   "outputs": [],
   "source": [
    "from fpdf import FPDF"
   ]
  },
  {
   "cell_type": "code",
   "execution_count": 2,
   "metadata": {},
   "outputs": [],
   "source": [
    "def format_reais(value):\n",
    "    return f'R${value:.2f}'.replace('.', ',')"
   ]
  },
  {
   "cell_type": "code",
   "execution_count": 3,
   "metadata": {},
   "outputs": [],
   "source": [
    "projeto = input(\"Digite a descrição do projeto: \")\n",
    "horas_estimadas = input(\"Digite o total de horas estimadas: \")\n",
    "valor_hora = input(\"Digite o valor da hora trabalhada: \")\n",
    "prazo_estimado = input(\"Digite o prazo estimado: \")\n"
   ]
  },
  {
   "cell_type": "code",
   "execution_count": 5,
   "metadata": {},
   "outputs": [],
   "source": [
    "horas_estimadas = int(horas_estimadas)\n",
    "valor_hora = float(valor_hora)\n",
    "prazo_estimado = str(prazo_estimado)\n",
    "valor_total_estimado = horas_estimadas * valor_hora"
   ]
  },
  {
   "cell_type": "code",
   "execution_count": 6,
   "metadata": {},
   "outputs": [
    {
     "name": "stdout",
     "output_type": "stream",
     "text": [
      "Projeto: web site\n",
      "Horas Estimadas: 420 horas\n",
      "Valor por Hora: R$520,00\n",
      "Prazo Estimado: 3 meses\n",
      "Valor Total Estimado: R$218400,00\n"
     ]
    }
   ],
   "source": [
    "print(f\"Projeto: {projeto}\")\n",
    "print(f\"Horas Estimadas: {horas_estimadas} horas\")\n",
    "print(f\"Valor por Hora: {format_reais(valor_hora)}\")\n",
    "print(f\"Prazo Estimado: {prazo_estimado}\")\n",
    "print(f\"Valor Total Estimado: {format_reais(valor_total_estimado)}\")\n"
   ]
  },
  {
   "cell_type": "code",
   "execution_count": 11,
   "metadata": {},
   "outputs": [],
   "source": [
    "pdf = FPDF()\n",
    "pdf.add_page()\n",
    "pdf.set_font(\"Arial\", size=12)\n",
    "\n",
    "pdf.cell(200, 10, txt=\"Orçamento do Projeto\", ln=True, align=\"C\")\n",
    "\n",
    "pdf.cell(200, 10, txt=f\"Projeto: {projeto}\", ln=True)\n",
    "pdf.cell(200, 10, txt=f\"Horas Estimadas: {horas_estimadas} horas\", ln=True)\n",
    "pdf.cell(200, 10, txt=f\"Valor por Hora: {format_reais(valor_hora)}\", ln=True)\n",
    "pdf.cell(200, 10, txt=f\"Prazo Estimado: {prazo_estimado} dias\", ln=True)\n",
    "pdf.cell(200, 10, txt=f\"Valor Total Estimado: {format_reais(valor_total_estimado)}\", ln=True)"
   ]
  },
  {
   "cell_type": "code",
   "execution_count": 12,
   "metadata": {},
   "outputs": [
    {
     "name": "stdout",
     "output_type": "stream",
     "text": [
      "Orçamento gerado com sucesso!!!\n"
     ]
    }
   ],
   "source": [
    "pdf.output(\"orcamento.pdf\")\n",
    "print(\"Orçamento gerado com sucesso!!!\")"
   ]
  }
 ],
 "metadata": {
  "kernelspec": {
   "display_name": "Python 3",
   "language": "python",
   "name": "python3"
  },
  "language_info": {
   "codemirror_mode": {
    "name": "ipython",
    "version": 3
   },
   "file_extension": ".py",
   "mimetype": "text/x-python",
   "name": "python",
   "nbconvert_exporter": "python",
   "pygments_lexer": "ipython3",
   "version": "3.11.4"
  },
  "orig_nbformat": 4
 },
 "nbformat": 4,
 "nbformat_minor": 2
}
